{
 "cells": [
  {
   "cell_type": "markdown",
   "id": "38874571",
   "metadata": {},
   "source": [
    "# **Project Title: Deep Learning for Comment Toxicity Detection with Streamlit**"
   ]
  },
  {
   "cell_type": "markdown",
   "id": "f8f7c958",
   "metadata": {},
   "source": [
    "#### **By Shubham Pandey**"
   ]
  },
  {
   "cell_type": "markdown",
   "id": "ef7673d1",
   "metadata": {},
   "source": [
    "#### **Domain: NLP + Deep Learning**\n",
    "This project lies in the domain of Natural Language Processing (NLP) and Deep Learning. NLP enables machines to understand and process human language, such as detecting patterns in text and classifying meaning. Deep learning techniques, especially neural networks like LSTMs, CNNs, and transformers (e.g., BERT), enhance this by automatically learning complex linguistic features. Together, they allow us to build robust models for tasks like sentiment analysis, spam filtering, and in this case, toxic comment detection."
   ]
  },
  {
   "cell_type": "markdown",
   "id": "f9b430ba",
   "metadata": {},
   "source": [
    "#### **Problem Statement:**\n",
    "Build a deep learning model to detect and classify toxic comments in real-time for safer online communication."
   ]
  },
  {
   "cell_type": "markdown",
   "id": "cbdbdd59",
   "metadata": {},
   "source": [
    "#### **Github Link:** https://github.com/Shubhampandey1git/Deep-Learning-for-Comment-Toxicity-Detection.git"
   ]
  },
  {
   "cell_type": "markdown",
   "id": "042759ba",
   "metadata": {},
   "source": [
    "## **Imports**"
   ]
  },
  {
   "cell_type": "code",
   "execution_count": 2,
   "id": "49ed63d6",
   "metadata": {},
   "outputs": [],
   "source": [
    "import pandas as pd"
   ]
  },
  {
   "cell_type": "markdown",
   "id": "404f6807",
   "metadata": {},
   "source": [
    "## **Data Loading**"
   ]
  },
  {
   "cell_type": "code",
   "execution_count": 3,
   "id": "c593e2f5",
   "metadata": {},
   "outputs": [],
   "source": [
    "# loading the test and train datasets\n",
    "test = pd.read_csv('data/test.csv')\n",
    "train = pd.read_csv('data/train.csv')"
   ]
  },
  {
   "cell_type": "markdown",
   "id": "7a9746a9",
   "metadata": {},
   "source": []
  }
 ],
 "metadata": {
  "kernelspec": {
   "display_name": "Python 3",
   "language": "python",
   "name": "python3"
  },
  "language_info": {
   "codemirror_mode": {
    "name": "ipython",
    "version": 3
   },
   "file_extension": ".py",
   "mimetype": "text/x-python",
   "name": "python",
   "nbconvert_exporter": "python",
   "pygments_lexer": "ipython3",
   "version": "3.10.9"
  }
 },
 "nbformat": 4,
 "nbformat_minor": 5
}
